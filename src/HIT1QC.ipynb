{
  "nbformat": 4,
  "nbformat_minor": 0,
  "metadata": {
    "colab": {
      "name": "HIT1QC.ipynb",
      "version": "0.3.2",
      "provenance": [],
      "include_colab_link": true
    },
    "kernelspec": {
      "name": "python3",
      "display_name": "Python 3"
    }
  },
  "cells": [
    {
      "cell_type": "markdown",
      "metadata": {
        "id": "view-in-github",
        "colab_type": "text"
      },
      "source": [
        "<a href=\"https://colab.research.google.com/github/tiffanytsang/pickture-perfect/blob/master/src/HIT1QC.ipynb\" target=\"_parent\"><img src=\"https://colab.research.google.com/assets/colab-badge.svg\" alt=\"Open In Colab\"/></a>"
      ]
    },
    {
      "metadata": {
        "id": "36SLvntAM8vd",
        "colab_type": "code",
        "colab": {}
      },
      "cell_type": "code",
      "source": [
        "import pandas as pd\n",
        "df = pd.read_csv('hit1dummy.csv')\n",
        "df"
      ],
      "execution_count": 0,
      "outputs": []
    },
    {
      "metadata": {
        "id": "R6BztQ-1Q28G",
        "colab_type": "code",
        "colab": {}
      },
      "cell_type": "code",
      "source": [
        "def findUnqualified(df):\n",
        "  unqualified = []\n",
        "  for row in df.iterrows():\n",
        "    row = row[1]\n",
        "    neg1 = row[\"NegImg1\"]\n",
        "    neg2 = row[\"NegImg2\"]\n",
        "    chosen = row[\"Chosen\"]\n",
        "    worker = row[\"WorkerID\"]\n",
        "    if chosen == neg1 or chosen == neg2:\n",
        "      unqualified.append(worker)\n",
        "  return(unqualified)"
      ],
      "execution_count": 0,
      "outputs": []
    },
    {
      "metadata": {
        "id": "XvevBWp_Vhx8",
        "colab_type": "code",
        "colab": {
          "base_uri": "https://localhost:8080/",
          "height": 36
        },
        "outputId": "e74cbfe6-7776-4d46-b9bc-95f849878a50"
      },
      "cell_type": "code",
      "source": [
        "print(findUnqualified(df))"
      ],
      "execution_count": 17,
      "outputs": [
        {
          "output_type": "stream",
          "text": [
            "[25]\n"
          ],
          "name": "stdout"
        }
      ]
    }
  ]
}