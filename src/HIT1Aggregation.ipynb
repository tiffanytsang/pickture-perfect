{
  "nbformat": 4,
  "nbformat_minor": 0,
  "metadata": {
    "colab": {
      "name": "HIT1Aggregation.ipynb",
      "version": "0.3.2",
      "provenance": [],
      "include_colab_link": true
    },
    "kernelspec": {
      "name": "python3",
      "display_name": "Python 3"
    }
  },
  "cells": [
    {
      "cell_type": "markdown",
      "metadata": {
        "id": "view-in-github",
        "colab_type": "text"
      },
      "source": [
        "<a href=\"https://colab.research.google.com/github/tiffanytsang/pickture-perfect/blob/master/src/HIT1Aggregation.ipynb\" target=\"_parent\"><img src=\"https://colab.research.google.com/assets/colab-badge.svg\" alt=\"Open In Colab\"/></a>"
      ]
    },
    {
      "metadata": {
        "id": "kp_4vFW9Ng6D",
        "colab_type": "code",
        "colab": {}
      },
      "cell_type": "code",
      "source": [
        "def prob_win(rating1, rating2): \n",
        "    return 1.0 / (1 +  math.pow(10.0, 1.0 * (rating1 - rating2) / 400.0)) "
      ],
      "execution_count": 0,
      "outputs": []
    },
    {
      "metadata": {
        "id": "8ZJ3_y02Sz6n",
        "colab_type": "code",
        "colab": {}
      },
      "cell_type": "code",
      "source": [
        "import math"
      ],
      "execution_count": 0,
      "outputs": []
    },
    {
      "metadata": {
        "id": "Oo00M0TySwtd",
        "colab_type": "code",
        "colab": {
          "base_uri": "https://localhost:8080/",
          "height": 34
        },
        "outputId": "6efc581c-1627-43c5-ff68-e0885840aada"
      },
      "cell_type": "code",
      "source": [
        "def elo_rating(rating_a, rating_b, K, win): \n",
        "    prob_b = prob_win(rating_a, rating_b) \n",
        "    prob_a = prob_win(rating_b, rating_a) \n",
        "\n",
        "    if (win == 1) : \n",
        "        rating_a = rating_a + K * (1 - prob_a) \n",
        "        rating_b = rating_b + K * (0 - prob_b) \n",
        "    else : \n",
        "        rating_a = rating_a + K * (0 - prob_a) \n",
        "        rating_b = rating_b + K * (1 - prob_b) \n",
        "      \n",
        "  \n",
        "    return (rating_a, rating_b)\n",
        "\n",
        "    \n",
        "Rating_a = 1452\n",
        "Rating_b = 1189\n",
        "K = 32\n",
        "d = 1\n",
        "elo_rating(Rating_a, Rating_b, K, d) "
      ],
      "execution_count": 57,
      "outputs": [
        {
          "output_type": "execute_result",
          "data": {
            "text/plain": [
              "(1457.7713339361699, 1183.2286660638301)"
            ]
          },
          "metadata": {
            "tags": []
          },
          "execution_count": 57
        }
      ]
    },
    {
      "metadata": {
        "id": "XFBWjr06UYOI",
        "colab_type": "code",
        "colab": {}
      },
      "cell_type": "code",
      "source": [
        "import pandas as pd"
      ],
      "execution_count": 0,
      "outputs": []
    },
    {
      "metadata": {
        "id": "fp52ZKrVUn89",
        "colab_type": "code",
        "colab": {}
      },
      "cell_type": "code",
      "source": [
        "df = pd.read_csv('test sample data x vs. y.csv')\n"
      ],
      "execution_count": 0,
      "outputs": []
    },
    {
      "metadata": {
        "id": "PcOXhEVWVLXC",
        "colab_type": "code",
        "colab": {}
      },
      "cell_type": "code",
      "source": [
        "def rank(frame, k):\n",
        "  ratings = {x:1000 for x in range(1,11)}\n",
        "  for row in frame.iterrows():\n",
        "    row = row[1]\n",
        "    img_1 = row['Img1']\n",
        "    img_2 = row['Img2']\n",
        "    winner = 1 if row['Chosen'] == img_1 else 0\n",
        "    elo = elo_rating(ratings[img_1], ratings[img_2], 32, winner)\n",
        "    ratings[img_1] = elo[0]\n",
        "    ratings[img_2] = elo[1]\n",
        "  s = sorted(((value, key) for (key,value) in ratings.items()), reverse=True)\n",
        " \n",
        "  return[x[1] for x in s][0]\n",
        "\n",
        "\n",
        "  \n",
        "    \n",
        "    \n",
        "\n"
      ],
      "execution_count": 0,
      "outputs": []
    },
    {
      "metadata": {
        "id": "223wceUQYqOH",
        "colab_type": "code",
        "colab": {
          "base_uri": "https://localhost:8080/",
          "height": 34
        },
        "outputId": "9850b614-3a74-4f91-f7a3-6df1fba8314d"
      },
      "cell_type": "code",
      "source": [
        "rank(df,32)"
      ],
      "execution_count": 59,
      "outputs": [
        {
          "output_type": "execute_result",
          "data": {
            "text/plain": [
              "1"
            ]
          },
          "metadata": {
            "tags": []
          },
          "execution_count": 59
        }
      ]
    }
  ]
}