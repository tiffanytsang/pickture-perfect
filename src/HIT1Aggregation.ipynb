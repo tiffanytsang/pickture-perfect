{
  "nbformat": 4,
  "nbformat_minor": 0,
  "metadata": {
    "colab": {
      "name": "HIT1Aggregation.ipynb",
      "version": "0.3.2",
      "provenance": [],
      "include_colab_link": true
    },
    "kernelspec": {
      "name": "python3",
      "display_name": "Python 3"
    }
  },
  "cells": [
    {
      "cell_type": "markdown",
      "metadata": {
        "id": "view-in-github",
        "colab_type": "text"
      },
      "source": [
        "<a href=\"https://colab.research.google.com/github/tiffanytsang/pickture-perfect/blob/master/src/HIT1Aggregation.ipynb\" target=\"_parent\"><img src=\"https://colab.research.google.com/assets/colab-badge.svg\" alt=\"Open In Colab\"/></a>"
      ]
    },
    {
      "metadata": {
        "id": "kp_4vFW9Ng6D",
        "colab_type": "code",
        "colab": {}
      },
      "cell_type": "code",
      "source": [
        "def prob_win(rating1, rating2): \n",
        "    return 1.0 / (1 + 1.0 * math.pow(10, 1.0 * (rating1 - rating2) / 400)) "
      ],
      "execution_count": 0,
      "outputs": []
    },
    {
      "metadata": {
        "id": "8ZJ3_y02Sz6n",
        "colab_type": "code",
        "colab": {}
      },
      "cell_type": "code",
      "source": [
        "import math"
      ],
      "execution_count": 0,
      "outputs": []
    },
    {
      "metadata": {
        "id": "Oo00M0TySwtd",
        "colab_type": "code",
        "colab": {
          "base_uri": "https://localhost:8080/",
          "height": 51
        },
        "outputId": "e0e2a790-1047-49b6-a84e-00bd8e6da670"
      },
      "cell_type": "code",
      "source": [
        "def EloRating(rating_a, rating_b, K, win): \n",
        "    prob_b = prob_win(rating_a, rating_b) \n",
        "    prob_a = prob_win(rating_b, rating_a) \n",
        "\n",
        "    if (win == 1) : \n",
        "        rating_a = rating_a + K * (1 - prob_a) \n",
        "        rating_b = rating_b + K * (0 - prob_b) \n",
        "    else : \n",
        "        rating_a = rating_a + K * (0 - prob_a) \n",
        "        rating_b = rating_b + K * (1 - prob_b) \n",
        "      \n",
        "  \n",
        "    print(\"New Ratings: \") \n",
        "    print(\"Rating a =\", rating_a,\" Rating b =\", rating_b)\n",
        "\n",
        "    \n",
        "Rating_a = 1200\n",
        "Rating_b = 1000\n",
        "K = 32\n",
        "d = 1\n",
        "EloRating(Rating_a, Rating_b, K, d) "
      ],
      "execution_count": 7,
      "outputs": [
        {
          "output_type": "stream",
          "text": [
            "New Ratings: \n",
            "Rating a = 1207.6880983472654  Rating b = 992.3119016527346\n"
          ],
          "name": "stdout"
        }
      ]
    }
  ]
}