{
  "nbformat": 4,
  "nbformat_minor": 0,
  "metadata": {
    "colab": {
      "name": "HIT3Aggregation.ipynb",
      "version": "0.3.2",
      "provenance": [],
      "include_colab_link": true
    },
    "kernelspec": {
      "name": "python3",
      "display_name": "Python 3"
    }
  },
  "cells": [
    {
      "cell_type": "markdown",
      "metadata": {
        "id": "view-in-github",
        "colab_type": "text"
      },
      "source": [
        "<a href=\"https://colab.research.google.com/github/tiffanytsang/pickture-perfect/blob/master/src/HIT3Aggregation.ipynb\" target=\"_parent\"><img src=\"https://colab.research.google.com/assets/colab-badge.svg\" alt=\"Open In Colab\"/></a>"
      ]
    },
    {
      "metadata": {
        "id": "6h4zVVzlNsQG",
        "colab_type": "code",
        "colab": {}
      },
      "cell_type": "code",
      "source": [
        "import pandas as pd"
      ],
      "execution_count": 0,
      "outputs": []
    },
    {
      "metadata": {
        "id": "NEjwu8x1Oq6c",
        "colab_type": "code",
        "colab": {}
      },
      "cell_type": "code",
      "source": [
        "data = pd.read_csv('hit3dummy.csv')"
      ],
      "execution_count": 0,
      "outputs": []
    },
    {
      "metadata": {
        "id": "_bUvzPQjSKNx",
        "colab_type": "code",
        "colab": {}
      },
      "cell_type": "code",
      "source": [
        "def find_unqualified(df):\n",
        "  unqualified = []\n",
        "  for row in df.iterrows():\n",
        "    row = row[1]\n",
        "    neg1 = row[\"NegImg1\"]\n",
        "    neg2 = row[\"NegImg2\"]\n",
        "    worker = row[\"WorkerID\"]\n",
        "    for i in range(1,8):\n",
        "      rank = row[\"Rank\" + str(i)]\n",
        "      if rank == neg1 or rank == neg2 and worker not in unqualified:\n",
        "        unqualified.append(row[\"WorkerID\"])\n",
        "  return(unqualified)"
      ],
      "execution_count": 0,
      "outputs": []
    },
    {
      "metadata": {
        "id": "SrA1NElXOyMG",
        "colab_type": "code",
        "colab": {}
      },
      "cell_type": "code",
      "source": [
        "def get_ranked_images(df, unqualified):\n",
        "  unqual = set(unqualified)\n",
        "  pictures = {}\n",
        "  for row in data.iterrows():\n",
        "    row = row[1]\n",
        "    if row['WorkerID'] not in unqual:\n",
        "      for i in range(1, 11):\n",
        "        url = int(row['Rank' + str(i)])\n",
        "        if url not in pictures:\n",
        "          pictures[url] = [i, 1] # sum, count\n",
        "        else:\n",
        "          pictures[url][0] += i\n",
        "          pictures[url][1] += 1\n",
        "  for (url, v) in pictures.items():\n",
        "    pictures[url] = v[0] / v[1]\n",
        "  return sorted(pictures, key=pictures.get)"
      ],
      "execution_count": 0,
      "outputs": []
    },
    {
      "metadata": {
        "id": "aM01elLsRjUF",
        "colab_type": "code",
        "colab": {
          "base_uri": "https://localhost:8080/",
          "height": 34
        },
        "outputId": "6e0d23e4-eb3a-47b1-e309-df7a45b85254"
      },
      "cell_type": "code",
      "source": [
        "get_ranked_images(data, find_unqualified(data))"
      ],
      "execution_count": 34,
      "outputs": [
        {
          "output_type": "execute_result",
          "data": {
            "text/plain": [
              "[1, 3, 2, 4, 5, 6, 7, 8, 9, 10]"
            ]
          },
          "metadata": {
            "tags": []
          },
          "execution_count": 34
        }
      ]
    },
    {
      "metadata": {
        "id": "q8cdMIm5RmnI",
        "colab_type": "code",
        "colab": {}
      },
      "cell_type": "code",
      "source": [
        ""
      ],
      "execution_count": 0,
      "outputs": []
    }
  ]
}